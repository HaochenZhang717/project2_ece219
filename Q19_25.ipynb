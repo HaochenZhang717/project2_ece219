{
 "cells": [
  {
   "cell_type": "markdown",
   "metadata": {
    "id": "qpGaZ4ECuuy7"
   },
   "source": [
    "Part 2 - Deep Learning and Clustering of Image Data"
   ]
  },
  {
   "cell_type": "markdown",
   "metadata": {
    "id": "_TkRJhV2uzPX"
   },
   "source": [
    "QUESTION 19: In a brief paragraph discuss: If the VGG network is trained on a dataset with perhaps totally different classes as targets, why would one expect the features derived from such a network to have discriminative power for a custom dataset?"
   ]
  },
  {
   "cell_type": "markdown",
   "metadata": {
    "id": "0pcn4tnmu4pc"
   },
   "source": [
    "VGG exhibits key characteristics, including a deep architecture, utilization of small-sized convolutional kernels, and a combination of convolutional, pooling, and fully connected layers. This structural design empowers the network to grasp intricate features within images. The adaptability of VGG makes it particularly effective for feature extraction across diverse datasets, aligning seamlessly with the principles of transfer learning. Consequently, the features derived from VGG networks prove advantageous for feature extraction and discrimination in other datasets."
   ]
  },
  {
   "cell_type": "code",
   "execution_count": 112,
   "metadata": {
    "colab": {
     "base_uri": "https://localhost:8080/"
    },
    "id": "AZ_p4IHyshVj",
    "outputId": "66283071-e472-4d98-fd20-1e65063c955e"
   },
   "outputs": [
    {
     "name": "stdout",
     "output_type": "stream",
     "text": [
      "Requirement already satisfied: umap-learn in /usr/local/lib/python3.10/dist-packages (0.5.5)\n",
      "Requirement already satisfied: numpy>=1.17 in /usr/local/lib/python3.10/dist-packages (from umap-learn) (1.23.5)\n",
      "Requirement already satisfied: scipy>=1.3.1 in /usr/local/lib/python3.10/dist-packages (from umap-learn) (1.11.4)\n",
      "Requirement already satisfied: scikit-learn>=0.22 in /usr/local/lib/python3.10/dist-packages (from umap-learn) (1.2.2)\n",
      "Requirement already satisfied: numba>=0.51.2 in /usr/local/lib/python3.10/dist-packages (from umap-learn) (0.58.1)\n",
      "Requirement already satisfied: pynndescent>=0.5 in /usr/local/lib/python3.10/dist-packages (from umap-learn) (0.5.11)\n",
      "Requirement already satisfied: tqdm in /usr/local/lib/python3.10/dist-packages (from umap-learn) (4.66.1)\n",
      "Requirement already satisfied: llvmlite<0.42,>=0.41.0dev0 in /usr/local/lib/python3.10/dist-packages (from numba>=0.51.2->umap-learn) (0.41.1)\n",
      "Requirement already satisfied: joblib>=0.11 in /usr/local/lib/python3.10/dist-packages (from pynndescent>=0.5->umap-learn) (1.3.2)\n",
      "Requirement already satisfied: threadpoolctl>=2.0.0 in /usr/local/lib/python3.10/dist-packages (from scikit-learn>=0.22->umap-learn) (3.2.0)\n",
      "Requirement already satisfied: hdbscan in /usr/local/lib/python3.10/dist-packages (0.8.33)\n",
      "Requirement already satisfied: cython<3,>=0.27 in /usr/local/lib/python3.10/dist-packages (from hdbscan) (0.29.37)\n",
      "Requirement already satisfied: numpy>=1.20 in /usr/local/lib/python3.10/dist-packages (from hdbscan) (1.23.5)\n",
      "Requirement already satisfied: scipy>=1.0 in /usr/local/lib/python3.10/dist-packages (from hdbscan) (1.11.4)\n",
      "Requirement already satisfied: scikit-learn>=0.20 in /usr/local/lib/python3.10/dist-packages (from hdbscan) (1.2.2)\n",
      "Requirement already satisfied: joblib>=1.0 in /usr/local/lib/python3.10/dist-packages (from hdbscan) (1.3.2)\n",
      "Requirement already satisfied: threadpoolctl>=2.0.0 in /usr/local/lib/python3.10/dist-packages (from scikit-learn>=0.20->hdbscan) (3.2.0)\n"
     ]
    }
   ],
   "source": [
    "import torch\n",
    "import torch.nn as nn\n",
    "from torchvision import transforms, datasets\n",
    "from torch.utils.data import DataLoader, TensorDataset\n",
    "import numpy as np\n",
    "import matplotlib.pyplot as plt\n",
    "\n",
    "from tqdm import tqdm\n",
    "import requests\n",
    "import os\n",
    "import tarfile\n",
    "\n",
    "from sklearn.preprocessing import StandardScaler\n",
    "from sklearn.decomposition import PCA\n",
    "from sklearn.cluster import KMeans\n",
    "from sklearn.metrics import confusion_matrix, adjusted_rand_score, adjusted_mutual_info_score, make_scorer\n",
    "from sklearn.pipeline import Pipeline\n",
    "from sklearn.base import TransformerMixin\n",
    "\n",
    "import pandas as pd\n",
    "pd.set_option('display.max_columns', None)\n",
    "\n",
    "from sklearn.metrics.cluster import rand_score\n",
    "from sklearn.decomposition import TruncatedSVD\n",
    "!pip install umap-learn\n",
    "import umap.umap_ as umap\n",
    "from sklearn.cluster import KMeans\n",
    "from sklearn.cluster import AgglomerativeClustering\n",
    "!pip install hdbscan\n",
    "import hdbscan\n",
    "from sklearn.model_selection import GridSearchCV, RandomizedSearchCV\n",
    "\n",
    "from sklearn.model_selection import train_test_split\n"
   ]
  },
  {
   "cell_type": "markdown",
   "metadata": {
    "id": "0PlV7va0sD5m"
   },
   "source": [
    "# Flowers Dataset and VGG Features"
   ]
  },
  {
   "cell_type": "code",
   "execution_count": 41,
   "metadata": {
    "colab": {
     "base_uri": "https://localhost:8080/"
    },
    "id": "tAE8QD1BQ3O-",
    "outputId": "fa9962da-e4da-4577-bcfc-176b60a2f462"
   },
   "outputs": [
    {
     "name": "stderr",
     "output_type": "stream",
     "text": [
      "Using cache found in /root/.cache/torch/hub/pytorch_vision_v0.10.0\n",
      "  0%|          | 0/58 [00:00<?, ?it/s]"
     ]
    },
    {
     "name": "stdout",
     "output_type": "stream",
     "text": [
      "torch.Size([64, 3, 224, 224])\n",
      "torch.Size([64, 512, 7, 7])\n",
      "torch.Size([64, 512, 7, 7])\n",
      "torch.Size([64, 25088])\n",
      "torch.Size([64, 4096])\n"
     ]
    },
    {
     "name": "stderr",
     "output_type": "stream",
     "text": [
      "\r",
      "  2%|▏         | 1/58 [00:00<00:34,  1.65it/s]"
     ]
    },
    {
     "name": "stdout",
     "output_type": "stream",
     "text": [
      "\n",
      " The number of zero value is: 0\n",
      "\n",
      "torch.Size([64, 3, 224, 224])\n",
      "torch.Size([64, 512, 7, 7])\n",
      "torch.Size([64, 512, 7, 7])\n",
      "torch.Size([64, 25088])\n",
      "torch.Size([64, 4096])\n"
     ]
    },
    {
     "name": "stderr",
     "output_type": "stream",
     "text": [
      "\r",
      "  3%|▎         | 2/58 [00:01<00:32,  1.73it/s]"
     ]
    },
    {
     "name": "stdout",
     "output_type": "stream",
     "text": [
      "\n",
      " The number of zero value is: 0\n",
      "\n",
      "torch.Size([64, 3, 224, 224])\n",
      "torch.Size([64, 512, 7, 7])\n",
      "torch.Size([64, 512, 7, 7])\n",
      "torch.Size([64, 25088])\n",
      "torch.Size([64, 4096])\n"
     ]
    },
    {
     "name": "stderr",
     "output_type": "stream",
     "text": [
      "\r",
      "  5%|▌         | 3/58 [00:01<00:31,  1.72it/s]"
     ]
    },
    {
     "name": "stdout",
     "output_type": "stream",
     "text": [
      "\n",
      " The number of zero value is: 0\n",
      "\n",
      "torch.Size([64, 3, 224, 224])\n",
      "torch.Size([64, 512, 7, 7])\n",
      "torch.Size([64, 512, 7, 7])\n",
      "torch.Size([64, 25088])\n",
      "torch.Size([64, 4096])\n"
     ]
    },
    {
     "name": "stderr",
     "output_type": "stream",
     "text": [
      "\r",
      "  7%|▋         | 4/58 [00:02<00:30,  1.75it/s]"
     ]
    },
    {
     "name": "stdout",
     "output_type": "stream",
     "text": [
      "\n",
      " The number of zero value is: 0\n",
      "\n",
      "torch.Size([64, 3, 224, 224])\n",
      "torch.Size([64, 512, 7, 7])\n",
      "torch.Size([64, 512, 7, 7])\n",
      "torch.Size([64, 25088])\n",
      "torch.Size([64, 4096])\n"
     ]
    },
    {
     "name": "stderr",
     "output_type": "stream",
     "text": [
      "\r",
      "  9%|▊         | 5/58 [00:02<00:30,  1.75it/s]"
     ]
    },
    {
     "name": "stdout",
     "output_type": "stream",
     "text": [
      "\n",
      " The number of zero value is: 0\n",
      "\n",
      "torch.Size([64, 3, 224, 224])\n",
      "torch.Size([64, 512, 7, 7])\n",
      "torch.Size([64, 512, 7, 7])\n",
      "torch.Size([64, 25088])\n",
      "torch.Size([64, 4096])\n"
     ]
    },
    {
     "name": "stderr",
     "output_type": "stream",
     "text": [
      "\r",
      " 10%|█         | 6/58 [00:03<00:29,  1.76it/s]"
     ]
    },
    {
     "name": "stdout",
     "output_type": "stream",
     "text": [
      "\n",
      " The number of zero value is: 0\n",
      "\n",
      "torch.Size([64, 3, 224, 224])\n",
      "torch.Size([64, 512, 7, 7])\n",
      "torch.Size([64, 512, 7, 7])\n",
      "torch.Size([64, 25088])\n",
      "torch.Size([64, 4096])\n"
     ]
    },
    {
     "name": "stderr",
     "output_type": "stream",
     "text": [
      "\r",
      " 12%|█▏        | 7/58 [00:04<00:29,  1.75it/s]"
     ]
    },
    {
     "name": "stdout",
     "output_type": "stream",
     "text": [
      "\n",
      " The number of zero value is: 0\n",
      "\n",
      "torch.Size([64, 3, 224, 224])\n",
      "torch.Size([64, 512, 7, 7])\n",
      "torch.Size([64, 512, 7, 7])\n",
      "torch.Size([64, 25088])\n",
      "torch.Size([64, 4096])\n"
     ]
    },
    {
     "name": "stderr",
     "output_type": "stream",
     "text": [
      "\r",
      " 14%|█▍        | 8/58 [00:04<00:28,  1.76it/s]"
     ]
    },
    {
     "name": "stdout",
     "output_type": "stream",
     "text": [
      "\n",
      " The number of zero value is: 0\n",
      "\n",
      "torch.Size([64, 3, 224, 224])\n",
      "torch.Size([64, 512, 7, 7])\n",
      "torch.Size([64, 512, 7, 7])\n",
      "torch.Size([64, 25088])\n",
      "torch.Size([64, 4096])\n"
     ]
    },
    {
     "name": "stderr",
     "output_type": "stream",
     "text": [
      "\r",
      " 16%|█▌        | 9/58 [00:05<00:27,  1.76it/s]"
     ]
    },
    {
     "name": "stdout",
     "output_type": "stream",
     "text": [
      "\n",
      " The number of zero value is: 0\n",
      "\n",
      "torch.Size([64, 3, 224, 224])\n",
      "torch.Size([64, 512, 7, 7])\n",
      "torch.Size([64, 512, 7, 7])\n",
      "torch.Size([64, 25088])\n",
      "torch.Size([64, 4096])\n"
     ]
    },
    {
     "name": "stderr",
     "output_type": "stream",
     "text": [
      "\r",
      " 17%|█▋        | 10/58 [00:05<00:27,  1.76it/s]"
     ]
    },
    {
     "name": "stdout",
     "output_type": "stream",
     "text": [
      "\n",
      " The number of zero value is: 0\n",
      "\n",
      "torch.Size([64, 3, 224, 224])\n",
      "torch.Size([64, 512, 7, 7])\n",
      "torch.Size([64, 512, 7, 7])\n",
      "torch.Size([64, 25088])\n",
      "torch.Size([64, 4096])\n"
     ]
    },
    {
     "name": "stderr",
     "output_type": "stream",
     "text": [
      "\r",
      " 19%|█▉        | 11/58 [00:06<00:26,  1.74it/s]"
     ]
    },
    {
     "name": "stdout",
     "output_type": "stream",
     "text": [
      "\n",
      " The number of zero value is: 0\n",
      "\n",
      "torch.Size([64, 3, 224, 224])\n",
      "torch.Size([64, 512, 7, 7])\n",
      "torch.Size([64, 512, 7, 7])\n",
      "torch.Size([64, 25088])\n",
      "torch.Size([64, 4096])\n"
     ]
    },
    {
     "name": "stderr",
     "output_type": "stream",
     "text": [
      "\r",
      " 21%|██        | 12/58 [00:06<00:26,  1.73it/s]"
     ]
    },
    {
     "name": "stdout",
     "output_type": "stream",
     "text": [
      "\n",
      " The number of zero value is: 0\n",
      "\n",
      "torch.Size([64, 3, 224, 224])\n",
      "torch.Size([64, 512, 7, 7])\n",
      "torch.Size([64, 512, 7, 7])\n",
      "torch.Size([64, 25088])\n",
      "torch.Size([64, 4096])\n"
     ]
    },
    {
     "name": "stderr",
     "output_type": "stream",
     "text": [
      "\r",
      " 22%|██▏       | 13/58 [00:07<00:25,  1.74it/s]"
     ]
    },
    {
     "name": "stdout",
     "output_type": "stream",
     "text": [
      "\n",
      " The number of zero value is: 0\n",
      "\n",
      "torch.Size([64, 3, 224, 224])\n",
      "torch.Size([64, 512, 7, 7])\n",
      "torch.Size([64, 512, 7, 7])\n",
      "torch.Size([64, 25088])\n",
      "torch.Size([64, 4096])\n"
     ]
    },
    {
     "name": "stderr",
     "output_type": "stream",
     "text": [
      "\r",
      " 24%|██▍       | 14/58 [00:08<00:26,  1.64it/s]"
     ]
    },
    {
     "name": "stdout",
     "output_type": "stream",
     "text": [
      "\n",
      " The number of zero value is: 0\n",
      "\n",
      "torch.Size([64, 3, 224, 224])\n",
      "torch.Size([64, 512, 7, 7])\n",
      "torch.Size([64, 512, 7, 7])\n",
      "torch.Size([64, 25088])\n",
      "torch.Size([64, 4096])\n"
     ]
    },
    {
     "name": "stderr",
     "output_type": "stream",
     "text": [
      "\r",
      " 26%|██▌       | 15/58 [00:08<00:29,  1.48it/s]"
     ]
    },
    {
     "name": "stdout",
     "output_type": "stream",
     "text": [
      "\n",
      " The number of zero value is: 0\n",
      "\n",
      "torch.Size([64, 3, 224, 224])\n",
      "torch.Size([64, 512, 7, 7])\n",
      "torch.Size([64, 512, 7, 7])\n",
      "torch.Size([64, 25088])\n",
      "torch.Size([64, 4096])\n"
     ]
    },
    {
     "name": "stderr",
     "output_type": "stream",
     "text": [
      "\r",
      " 28%|██▊       | 16/58 [00:10<00:36,  1.14it/s]"
     ]
    },
    {
     "name": "stdout",
     "output_type": "stream",
     "text": [
      "\n",
      " The number of zero value is: 0\n",
      "\n",
      "torch.Size([64, 3, 224, 224])\n",
      "torch.Size([64, 512, 7, 7])\n",
      "torch.Size([64, 512, 7, 7])\n",
      "torch.Size([64, 25088])\n",
      "torch.Size([64, 4096])\n"
     ]
    },
    {
     "name": "stderr",
     "output_type": "stream",
     "text": [
      "\r",
      " 29%|██▉       | 17/58 [00:11<00:34,  1.19it/s]"
     ]
    },
    {
     "name": "stdout",
     "output_type": "stream",
     "text": [
      "\n",
      " The number of zero value is: 0\n",
      "\n",
      "torch.Size([64, 3, 224, 224])\n",
      "torch.Size([64, 512, 7, 7])\n",
      "torch.Size([64, 512, 7, 7])\n",
      "torch.Size([64, 25088])\n",
      "torch.Size([64, 4096])\n"
     ]
    },
    {
     "name": "stderr",
     "output_type": "stream",
     "text": [
      "\r",
      " 31%|███       | 18/58 [00:11<00:33,  1.20it/s]"
     ]
    },
    {
     "name": "stdout",
     "output_type": "stream",
     "text": [
      "\n",
      " The number of zero value is: 0\n",
      "\n",
      "torch.Size([64, 3, 224, 224])\n",
      "torch.Size([64, 512, 7, 7])\n",
      "torch.Size([64, 512, 7, 7])\n",
      "torch.Size([64, 25088])\n",
      "torch.Size([64, 4096])\n"
     ]
    },
    {
     "name": "stderr",
     "output_type": "stream",
     "text": [
      "\r",
      " 33%|███▎      | 19/58 [00:12<00:32,  1.20it/s]"
     ]
    },
    {
     "name": "stdout",
     "output_type": "stream",
     "text": [
      "\n",
      " The number of zero value is: 0\n",
      "\n",
      "torch.Size([64, 3, 224, 224])\n",
      "torch.Size([64, 512, 7, 7])\n",
      "torch.Size([64, 512, 7, 7])\n",
      "torch.Size([64, 25088])\n",
      "torch.Size([64, 4096])\n"
     ]
    },
    {
     "name": "stderr",
     "output_type": "stream",
     "text": [
      "\r",
      " 34%|███▍      | 20/58 [00:13<00:32,  1.15it/s]"
     ]
    },
    {
     "name": "stdout",
     "output_type": "stream",
     "text": [
      "\n",
      " The number of zero value is: 0\n",
      "\n",
      "torch.Size([64, 3, 224, 224])\n",
      "torch.Size([64, 512, 7, 7])\n",
      "torch.Size([64, 512, 7, 7])\n",
      "torch.Size([64, 25088])\n",
      "torch.Size([64, 4096])\n"
     ]
    },
    {
     "name": "stderr",
     "output_type": "stream",
     "text": [
      "\r",
      " 36%|███▌      | 21/58 [00:14<00:35,  1.04it/s]"
     ]
    },
    {
     "name": "stdout",
     "output_type": "stream",
     "text": [
      "\n",
      " The number of zero value is: 0\n",
      "\n",
      "torch.Size([64, 3, 224, 224])\n",
      "torch.Size([64, 512, 7, 7])\n",
      "torch.Size([64, 512, 7, 7])\n",
      "torch.Size([64, 25088])\n",
      "torch.Size([64, 4096])\n"
     ]
    },
    {
     "name": "stderr",
     "output_type": "stream",
     "text": [
      "\r",
      " 38%|███▊      | 22/58 [00:15<00:30,  1.17it/s]"
     ]
    },
    {
     "name": "stdout",
     "output_type": "stream",
     "text": [
      "\n",
      " The number of zero value is: 0\n",
      "\n",
      "torch.Size([64, 3, 224, 224])\n",
      "torch.Size([64, 512, 7, 7])\n",
      "torch.Size([64, 512, 7, 7])\n",
      "torch.Size([64, 25088])\n",
      "torch.Size([64, 4096])\n"
     ]
    },
    {
     "name": "stderr",
     "output_type": "stream",
     "text": [
      "\r",
      " 40%|███▉      | 23/58 [00:16<00:27,  1.28it/s]"
     ]
    },
    {
     "name": "stdout",
     "output_type": "stream",
     "text": [
      "\n",
      " The number of zero value is: 0\n",
      "\n",
      "torch.Size([64, 3, 224, 224])\n",
      "torch.Size([64, 512, 7, 7])\n",
      "torch.Size([64, 512, 7, 7])\n",
      "torch.Size([64, 25088])\n",
      "torch.Size([64, 4096])\n"
     ]
    },
    {
     "name": "stderr",
     "output_type": "stream",
     "text": [
      "\r",
      " 41%|████▏     | 24/58 [00:16<00:24,  1.37it/s]"
     ]
    },
    {
     "name": "stdout",
     "output_type": "stream",
     "text": [
      "\n",
      " The number of zero value is: 0\n",
      "\n",
      "torch.Size([64, 3, 224, 224])\n",
      "torch.Size([64, 512, 7, 7])\n",
      "torch.Size([64, 512, 7, 7])\n",
      "torch.Size([64, 25088])\n",
      "torch.Size([64, 4096])\n"
     ]
    },
    {
     "name": "stderr",
     "output_type": "stream",
     "text": [
      "\r",
      " 43%|████▎     | 25/58 [00:17<00:22,  1.45it/s]"
     ]
    },
    {
     "name": "stdout",
     "output_type": "stream",
     "text": [
      "\n",
      " The number of zero value is: 0\n",
      "\n",
      "torch.Size([64, 3, 224, 224])\n",
      "torch.Size([64, 512, 7, 7])\n",
      "torch.Size([64, 512, 7, 7])\n",
      "torch.Size([64, 25088])\n",
      "torch.Size([64, 4096])\n"
     ]
    },
    {
     "name": "stderr",
     "output_type": "stream",
     "text": [
      "\r",
      " 45%|████▍     | 26/58 [00:17<00:21,  1.51it/s]"
     ]
    },
    {
     "name": "stdout",
     "output_type": "stream",
     "text": [
      "\n",
      " The number of zero value is: 0\n",
      "\n",
      "torch.Size([64, 3, 224, 224])\n",
      "torch.Size([64, 512, 7, 7])\n",
      "torch.Size([64, 512, 7, 7])\n",
      "torch.Size([64, 25088])\n",
      "torch.Size([64, 4096])\n"
     ]
    },
    {
     "name": "stderr",
     "output_type": "stream",
     "text": [
      "\r",
      " 47%|████▋     | 27/58 [00:18<00:19,  1.56it/s]"
     ]
    },
    {
     "name": "stdout",
     "output_type": "stream",
     "text": [
      "\n",
      " The number of zero value is: 0\n",
      "\n",
      "torch.Size([64, 3, 224, 224])\n",
      "torch.Size([64, 512, 7, 7])\n",
      "torch.Size([64, 512, 7, 7])\n",
      "torch.Size([64, 25088])\n",
      "torch.Size([64, 4096])\n"
     ]
    },
    {
     "name": "stderr",
     "output_type": "stream",
     "text": [
      "\r",
      " 48%|████▊     | 28/58 [00:19<00:18,  1.59it/s]"
     ]
    },
    {
     "name": "stdout",
     "output_type": "stream",
     "text": [
      "\n",
      " The number of zero value is: 0\n",
      "\n",
      "torch.Size([64, 3, 224, 224])\n",
      "torch.Size([64, 512, 7, 7])\n",
      "torch.Size([64, 512, 7, 7])\n",
      "torch.Size([64, 25088])\n",
      "torch.Size([64, 4096])\n"
     ]
    },
    {
     "name": "stderr",
     "output_type": "stream",
     "text": [
      "\r",
      " 50%|█████     | 29/58 [00:19<00:18,  1.60it/s]"
     ]
    },
    {
     "name": "stdout",
     "output_type": "stream",
     "text": [
      "\n",
      " The number of zero value is: 0\n",
      "\n",
      "torch.Size([64, 3, 224, 224])\n",
      "torch.Size([64, 512, 7, 7])\n",
      "torch.Size([64, 512, 7, 7])\n",
      "torch.Size([64, 25088])\n",
      "torch.Size([64, 4096])\n"
     ]
    },
    {
     "name": "stderr",
     "output_type": "stream",
     "text": [
      "\r",
      " 52%|█████▏    | 30/58 [00:20<00:17,  1.59it/s]"
     ]
    },
    {
     "name": "stdout",
     "output_type": "stream",
     "text": [
      "\n",
      " The number of zero value is: 0\n",
      "\n",
      "torch.Size([64, 3, 224, 224])\n",
      "torch.Size([64, 512, 7, 7])\n",
      "torch.Size([64, 512, 7, 7])\n",
      "torch.Size([64, 25088])\n",
      "torch.Size([64, 4096])\n"
     ]
    },
    {
     "name": "stderr",
     "output_type": "stream",
     "text": [
      "\r",
      " 53%|█████▎    | 31/58 [00:21<00:17,  1.53it/s]"
     ]
    },
    {
     "name": "stdout",
     "output_type": "stream",
     "text": [
      "\n",
      " The number of zero value is: 0\n",
      "\n",
      "torch.Size([64, 3, 224, 224])\n",
      "torch.Size([64, 512, 7, 7])\n",
      "torch.Size([64, 512, 7, 7])\n",
      "torch.Size([64, 25088])\n",
      "torch.Size([64, 4096])\n"
     ]
    },
    {
     "name": "stderr",
     "output_type": "stream",
     "text": [
      "\r",
      " 55%|█████▌    | 32/58 [00:21<00:17,  1.47it/s]"
     ]
    },
    {
     "name": "stdout",
     "output_type": "stream",
     "text": [
      "\n",
      " The number of zero value is: 0\n",
      "\n",
      "torch.Size([64, 3, 224, 224])\n",
      "torch.Size([64, 512, 7, 7])\n",
      "torch.Size([64, 512, 7, 7])\n",
      "torch.Size([64, 25088])\n",
      "torch.Size([64, 4096])\n"
     ]
    },
    {
     "name": "stderr",
     "output_type": "stream",
     "text": [
      "\r",
      " 57%|█████▋    | 33/58 [00:22<00:16,  1.51it/s]"
     ]
    },
    {
     "name": "stdout",
     "output_type": "stream",
     "text": [
      "\n",
      " The number of zero value is: 0\n",
      "\n",
      "torch.Size([64, 3, 224, 224])\n",
      "torch.Size([64, 512, 7, 7])\n",
      "torch.Size([64, 512, 7, 7])\n",
      "torch.Size([64, 25088])\n",
      "torch.Size([64, 4096])\n"
     ]
    },
    {
     "name": "stderr",
     "output_type": "stream",
     "text": [
      "\r",
      " 59%|█████▊    | 34/58 [00:22<00:15,  1.55it/s]"
     ]
    },
    {
     "name": "stdout",
     "output_type": "stream",
     "text": [
      "\n",
      " The number of zero value is: 0\n",
      "\n",
      "torch.Size([64, 3, 224, 224])\n",
      "torch.Size([64, 512, 7, 7])\n",
      "torch.Size([64, 512, 7, 7])\n",
      "torch.Size([64, 25088])\n",
      "torch.Size([64, 4096])\n"
     ]
    },
    {
     "name": "stderr",
     "output_type": "stream",
     "text": [
      "\r",
      " 60%|██████    | 35/58 [00:23<00:14,  1.59it/s]"
     ]
    },
    {
     "name": "stdout",
     "output_type": "stream",
     "text": [
      "\n",
      " The number of zero value is: 0\n",
      "\n",
      "torch.Size([64, 3, 224, 224])\n",
      "torch.Size([64, 512, 7, 7])\n",
      "torch.Size([64, 512, 7, 7])\n",
      "torch.Size([64, 25088])\n",
      "torch.Size([64, 4096])\n"
     ]
    },
    {
     "name": "stderr",
     "output_type": "stream",
     "text": [
      "\r",
      " 62%|██████▏   | 36/58 [00:24<00:13,  1.60it/s]"
     ]
    },
    {
     "name": "stdout",
     "output_type": "stream",
     "text": [
      "\n",
      " The number of zero value is: 0\n",
      "\n",
      "torch.Size([64, 3, 224, 224])\n",
      "torch.Size([64, 512, 7, 7])\n",
      "torch.Size([64, 512, 7, 7])\n",
      "torch.Size([64, 25088])\n",
      "torch.Size([64, 4096])\n"
     ]
    },
    {
     "name": "stderr",
     "output_type": "stream",
     "text": [
      "\r",
      " 64%|██████▍   | 37/58 [00:24<00:12,  1.63it/s]"
     ]
    },
    {
     "name": "stdout",
     "output_type": "stream",
     "text": [
      "\n",
      " The number of zero value is: 0\n",
      "\n",
      "torch.Size([64, 3, 224, 224])\n",
      "torch.Size([64, 512, 7, 7])\n",
      "torch.Size([64, 512, 7, 7])\n",
      "torch.Size([64, 25088])\n",
      "torch.Size([64, 4096])\n"
     ]
    },
    {
     "name": "stderr",
     "output_type": "stream",
     "text": [
      "\r",
      " 66%|██████▌   | 38/58 [00:25<00:12,  1.63it/s]"
     ]
    },
    {
     "name": "stdout",
     "output_type": "stream",
     "text": [
      "\n",
      " The number of zero value is: 0\n",
      "\n",
      "torch.Size([64, 3, 224, 224])\n",
      "torch.Size([64, 512, 7, 7])\n",
      "torch.Size([64, 512, 7, 7])\n",
      "torch.Size([64, 25088])\n",
      "torch.Size([64, 4096])\n"
     ]
    },
    {
     "name": "stderr",
     "output_type": "stream",
     "text": [
      "\r",
      " 67%|██████▋   | 39/58 [00:25<00:11,  1.64it/s]"
     ]
    },
    {
     "name": "stdout",
     "output_type": "stream",
     "text": [
      "\n",
      " The number of zero value is: 0\n",
      "\n",
      "torch.Size([64, 3, 224, 224])\n",
      "torch.Size([64, 512, 7, 7])\n",
      "torch.Size([64, 512, 7, 7])\n",
      "torch.Size([64, 25088])\n",
      "torch.Size([64, 4096])\n"
     ]
    },
    {
     "name": "stderr",
     "output_type": "stream",
     "text": [
      "\r",
      " 69%|██████▉   | 40/58 [00:26<00:10,  1.66it/s]"
     ]
    },
    {
     "name": "stdout",
     "output_type": "stream",
     "text": [
      "\n",
      " The number of zero value is: 0\n",
      "\n",
      "torch.Size([64, 3, 224, 224])\n",
      "torch.Size([64, 512, 7, 7])\n",
      "torch.Size([64, 512, 7, 7])\n",
      "torch.Size([64, 25088])\n",
      "torch.Size([64, 4096])\n"
     ]
    },
    {
     "name": "stderr",
     "output_type": "stream",
     "text": [
      "\r",
      " 71%|███████   | 41/58 [00:27<00:10,  1.68it/s]"
     ]
    },
    {
     "name": "stdout",
     "output_type": "stream",
     "text": [
      "\n",
      " The number of zero value is: 0\n",
      "\n",
      "torch.Size([64, 3, 224, 224])\n",
      "torch.Size([64, 512, 7, 7])\n",
      "torch.Size([64, 512, 7, 7])\n",
      "torch.Size([64, 25088])\n",
      "torch.Size([64, 4096])\n"
     ]
    },
    {
     "name": "stderr",
     "output_type": "stream",
     "text": [
      "\r",
      " 72%|███████▏  | 42/58 [00:27<00:09,  1.67it/s]"
     ]
    },
    {
     "name": "stdout",
     "output_type": "stream",
     "text": [
      "\n",
      " The number of zero value is: 0\n",
      "\n",
      "torch.Size([64, 3, 224, 224])\n",
      "torch.Size([64, 512, 7, 7])\n",
      "torch.Size([64, 512, 7, 7])\n",
      "torch.Size([64, 25088])\n",
      "torch.Size([64, 4096])\n"
     ]
    },
    {
     "name": "stderr",
     "output_type": "stream",
     "text": [
      "\r",
      " 74%|███████▍  | 43/58 [00:28<00:08,  1.69it/s]"
     ]
    },
    {
     "name": "stdout",
     "output_type": "stream",
     "text": [
      "\n",
      " The number of zero value is: 0\n",
      "\n",
      "torch.Size([64, 3, 224, 224])\n",
      "torch.Size([64, 512, 7, 7])\n",
      "torch.Size([64, 512, 7, 7])\n",
      "torch.Size([64, 25088])\n",
      "torch.Size([64, 4096])\n"
     ]
    },
    {
     "name": "stderr",
     "output_type": "stream",
     "text": [
      "\r",
      " 76%|███████▌  | 44/58 [00:28<00:08,  1.68it/s]"
     ]
    },
    {
     "name": "stdout",
     "output_type": "stream",
     "text": [
      "\n",
      " The number of zero value is: 0\n",
      "\n",
      "torch.Size([64, 3, 224, 224])\n",
      "torch.Size([64, 512, 7, 7])\n",
      "torch.Size([64, 512, 7, 7])\n",
      "torch.Size([64, 25088])\n",
      "torch.Size([64, 4096])\n"
     ]
    },
    {
     "name": "stderr",
     "output_type": "stream",
     "text": [
      "\r",
      " 78%|███████▊  | 45/58 [00:29<00:07,  1.68it/s]"
     ]
    },
    {
     "name": "stdout",
     "output_type": "stream",
     "text": [
      "\n",
      " The number of zero value is: 0\n",
      "\n",
      "torch.Size([64, 3, 224, 224])\n",
      "torch.Size([64, 512, 7, 7])\n",
      "torch.Size([64, 512, 7, 7])\n",
      "torch.Size([64, 25088])\n",
      "torch.Size([64, 4096])\n"
     ]
    },
    {
     "name": "stderr",
     "output_type": "stream",
     "text": [
      "\r",
      " 79%|███████▉  | 46/58 [00:30<00:07,  1.66it/s]"
     ]
    },
    {
     "name": "stdout",
     "output_type": "stream",
     "text": [
      "\n",
      " The number of zero value is: 0\n",
      "\n",
      "torch.Size([64, 3, 224, 224])\n",
      "torch.Size([64, 512, 7, 7])\n",
      "torch.Size([64, 512, 7, 7])\n",
      "torch.Size([64, 25088])\n",
      "torch.Size([64, 4096])\n"
     ]
    },
    {
     "name": "stderr",
     "output_type": "stream",
     "text": [
      "\r",
      " 81%|████████  | 47/58 [00:30<00:06,  1.69it/s]"
     ]
    },
    {
     "name": "stdout",
     "output_type": "stream",
     "text": [
      "\n",
      " The number of zero value is: 0\n",
      "\n",
      "torch.Size([64, 3, 224, 224])\n",
      "torch.Size([64, 512, 7, 7])\n",
      "torch.Size([64, 512, 7, 7])\n",
      "torch.Size([64, 25088])\n",
      "torch.Size([64, 4096])\n"
     ]
    },
    {
     "name": "stderr",
     "output_type": "stream",
     "text": [
      "\r",
      " 83%|████████▎ | 48/58 [00:31<00:05,  1.68it/s]"
     ]
    },
    {
     "name": "stdout",
     "output_type": "stream",
     "text": [
      "\n",
      " The number of zero value is: 0\n",
      "\n",
      "torch.Size([64, 3, 224, 224])\n",
      "torch.Size([64, 512, 7, 7])\n",
      "torch.Size([64, 512, 7, 7])\n",
      "torch.Size([64, 25088])\n",
      "torch.Size([64, 4096])\n"
     ]
    },
    {
     "name": "stderr",
     "output_type": "stream",
     "text": [
      "\r",
      " 84%|████████▍ | 49/58 [00:31<00:05,  1.69it/s]"
     ]
    },
    {
     "name": "stdout",
     "output_type": "stream",
     "text": [
      "\n",
      " The number of zero value is: 0\n",
      "\n",
      "torch.Size([64, 3, 224, 224])\n",
      "torch.Size([64, 512, 7, 7])\n",
      "torch.Size([64, 512, 7, 7])\n",
      "torch.Size([64, 25088])\n",
      "torch.Size([64, 4096])\n"
     ]
    },
    {
     "name": "stderr",
     "output_type": "stream",
     "text": [
      "\r",
      " 86%|████████▌ | 50/58 [00:32<00:05,  1.57it/s]"
     ]
    },
    {
     "name": "stdout",
     "output_type": "stream",
     "text": [
      "\n",
      " The number of zero value is: 0\n",
      "\n",
      "torch.Size([64, 3, 224, 224])\n",
      "torch.Size([64, 512, 7, 7])\n",
      "torch.Size([64, 512, 7, 7])\n",
      "torch.Size([64, 25088])\n",
      "torch.Size([64, 4096])\n"
     ]
    },
    {
     "name": "stderr",
     "output_type": "stream",
     "text": [
      "\r",
      " 88%|████████▊ | 51/58 [00:33<00:04,  1.51it/s]"
     ]
    },
    {
     "name": "stdout",
     "output_type": "stream",
     "text": [
      "\n",
      " The number of zero value is: 0\n",
      "\n",
      "torch.Size([64, 3, 224, 224])\n",
      "torch.Size([64, 512, 7, 7])\n",
      "torch.Size([64, 512, 7, 7])\n",
      "torch.Size([64, 25088])\n",
      "torch.Size([64, 4096])\n"
     ]
    },
    {
     "name": "stderr",
     "output_type": "stream",
     "text": [
      "\r",
      " 90%|████████▉ | 52/58 [00:34<00:04,  1.47it/s]"
     ]
    },
    {
     "name": "stdout",
     "output_type": "stream",
     "text": [
      "\n",
      " The number of zero value is: 0\n",
      "\n",
      "torch.Size([64, 3, 224, 224])\n",
      "torch.Size([64, 512, 7, 7])\n",
      "torch.Size([64, 512, 7, 7])\n",
      "torch.Size([64, 25088])\n",
      "torch.Size([64, 4096])\n"
     ]
    },
    {
     "name": "stderr",
     "output_type": "stream",
     "text": [
      "\r",
      " 91%|█████████▏| 53/58 [00:34<00:03,  1.51it/s]"
     ]
    },
    {
     "name": "stdout",
     "output_type": "stream",
     "text": [
      "\n",
      " The number of zero value is: 0\n",
      "\n",
      "torch.Size([64, 3, 224, 224])\n",
      "torch.Size([64, 512, 7, 7])\n",
      "torch.Size([64, 512, 7, 7])\n",
      "torch.Size([64, 25088])\n",
      "torch.Size([64, 4096])\n"
     ]
    },
    {
     "name": "stderr",
     "output_type": "stream",
     "text": [
      "\r",
      " 93%|█████████▎| 54/58 [00:35<00:02,  1.56it/s]"
     ]
    },
    {
     "name": "stdout",
     "output_type": "stream",
     "text": [
      "\n",
      " The number of zero value is: 0\n",
      "\n",
      "torch.Size([64, 3, 224, 224])\n",
      "torch.Size([64, 512, 7, 7])\n",
      "torch.Size([64, 512, 7, 7])\n",
      "torch.Size([64, 25088])\n",
      "torch.Size([64, 4096])\n"
     ]
    },
    {
     "name": "stderr",
     "output_type": "stream",
     "text": [
      "\r",
      " 95%|█████████▍| 55/58 [00:35<00:01,  1.60it/s]"
     ]
    },
    {
     "name": "stdout",
     "output_type": "stream",
     "text": [
      "\n",
      " The number of zero value is: 0\n",
      "\n",
      "torch.Size([64, 3, 224, 224])\n",
      "torch.Size([64, 512, 7, 7])\n",
      "torch.Size([64, 512, 7, 7])\n",
      "torch.Size([64, 25088])\n",
      "torch.Size([64, 4096])\n"
     ]
    },
    {
     "name": "stderr",
     "output_type": "stream",
     "text": [
      "\r",
      " 97%|█████████▋| 56/58 [00:36<00:01,  1.61it/s]"
     ]
    },
    {
     "name": "stdout",
     "output_type": "stream",
     "text": [
      "\n",
      " The number of zero value is: 0\n",
      "\n",
      "torch.Size([64, 3, 224, 224])\n",
      "torch.Size([64, 512, 7, 7])\n",
      "torch.Size([64, 512, 7, 7])\n",
      "torch.Size([64, 25088])\n",
      "torch.Size([64, 4096])\n"
     ]
    },
    {
     "name": "stderr",
     "output_type": "stream",
     "text": [
      "\r",
      " 98%|█████████▊| 57/58 [00:37<00:00,  1.62it/s]"
     ]
    },
    {
     "name": "stdout",
     "output_type": "stream",
     "text": [
      "\n",
      " The number of zero value is: 0\n",
      "\n",
      "torch.Size([22, 3, 224, 224])\n",
      "torch.Size([22, 512, 7, 7])\n",
      "torch.Size([22, 512, 7, 7])\n",
      "torch.Size([22, 25088])\n",
      "torch.Size([22, 4096])\n"
     ]
    },
    {
     "name": "stderr",
     "output_type": "stream",
     "text": [
      "100%|██████████| 58/58 [00:37<00:00,  1.55it/s]"
     ]
    },
    {
     "name": "stdout",
     "output_type": "stream",
     "text": [
      "\n",
      " The number of zero value is: 0\n",
      "\n"
     ]
    },
    {
     "name": "stderr",
     "output_type": "stream",
     "text": [
      "\n"
     ]
    }
   ],
   "source": [
    "filename = './flowers_features_and_labels.npz'\n",
    "\n",
    "if os.path.exists(filename):\n",
    "    file = np.load(filename)\n",
    "    f_all, y_all = file['f_all'], file['y_all']\n",
    "\n",
    "else:\n",
    "    if not os.path.exists('./flower_photos'):\n",
    "        # download the flowers dataset and extract its images\n",
    "        url = 'http://download.tensorflow.org/example_images/flower_photos.tgz'\n",
    "        with open('./flower_photos.tgz', 'wb') as file:\n",
    "            file.write(requests.get(url).content)\n",
    "        with tarfile.open('./flower_photos.tgz') as file:\n",
    "            file.extractall('./')\n",
    "        os.remove('./flower_photos.tgz')\n",
    "\n",
    "    class FeatureExtractor(nn.Module):\n",
    "        def __init__(self):\n",
    "            super().__init__()\n",
    "\n",
    "            vgg = torch.hub.load('pytorch/vision:v0.10.0', 'vgg16', pretrained=True)\n",
    "\n",
    "            # Extract VGG-16 Feature Layers\n",
    "            self.features = list(vgg.features)\n",
    "            self.features = nn.Sequential(*self.features)\n",
    "            # Extract VGG-16 Average Pooling Layer\n",
    "            self.pooling = vgg.avgpool\n",
    "            # Convert the image into one-dimensional vector\n",
    "            self.flatten = nn.Flatten()\n",
    "            # Extract the first part of fully-connected layer from VGG16\n",
    "            self.fc = vgg.classifier[0]\n",
    "\n",
    "        def forward(self, x):\n",
    "            # It will take the input 'x' until it returns the feature vector called 'out'\n",
    "            print(x.shape)\n",
    "            out = self.features(x)\n",
    "            print(out.shape)\n",
    "            out = self.pooling(out)\n",
    "            print(out.shape)\n",
    "            out = self.flatten(out)\n",
    "            print(out.shape)\n",
    "            out = self.fc(out)\n",
    "            print(out.shape)\n",
    "            print(\"\\n The number of zero value is:\",4096*out.shape[0]-np.count_nonzero(out.cpu().numpy()))\n",
    "            print()\n",
    "            return out\n",
    "\n",
    "    # Initialize the model\n",
    "    assert torch.cuda.is_available()\n",
    "    feature_extractor = FeatureExtractor().cuda().eval()\n",
    "\n",
    "    dataset = datasets.ImageFolder(root='./flower_photos',\n",
    "                                   transform=transforms.Compose([transforms.Resize(224),\n",
    "                                                                 transforms.CenterCrop(224),\n",
    "                                                                 transforms.ToTensor(),\n",
    "                                                                 transforms.Normalize(mean=[0.485, 0.456, 0.406], std=[0.229, 0.224, 0.225])]))\n",
    "    dataloader = DataLoader(dataset, batch_size=64, shuffle=True)\n",
    "\n",
    "    # Extract features and store them on disk\n",
    "    f_all, y_all = np.zeros((0, 4096)), np.zeros((0,))\n",
    "    for x, y in tqdm(dataloader):\n",
    "        with torch.no_grad():\n",
    "            f_all = np.vstack([f_all, feature_extractor(x.cuda()).cpu()])\n",
    "            y_all = np.concatenate([y_all, y])\n",
    "    np.savez(filename, f_all=f_all, y_all=y_all)"
   ]
  },
  {
   "cell_type": "markdown",
   "metadata": {
    "id": "EXvd6TK5s4uU"
   },
   "source": [
    "QUESTION 20: In a brief paragraph explain how the helper code base is performing feature extraction."
   ]
  },
  {
   "cell_type": "markdown",
   "metadata": {
    "id": "YQv3SxUys_Lw"
   },
   "source": [
    "The feature extraction is done by\n",
    "1. Extract VGG-16's feature layers.\n",
    "2. Encapsulate the extracted list of convolutional layers into 'nn.Sequential' module, faciliating their use in the forward pass of the model.\n",
    "3. Extract the average pooling layer from the VGG-16 model to reduce the dimensionality of the feature maps.\n",
    "4. Flatten the feature maps into a one-dimensional vector.\n",
    "5. Extract the first layer from the fully connected layer of the VGG-16 model to be used as a linear layer for the final classification."
   ]
  },
  {
   "cell_type": "code",
   "execution_count": null,
   "metadata": {
    "colab": {
     "base_uri": "https://localhost:8080/"
    },
    "id": "PoKiVC6bT0I3",
    "outputId": "bd0e6630-d6bc-4763-e5d1-736a7ee2404c"
   },
   "outputs": [
    {
     "name": "stdout",
     "output_type": "stream",
     "text": [
      "(3670, 4096) (3670,)\n"
     ]
    }
   ],
   "source": [
    "print(f_all.shape, y_all.shape)\n",
    "num_features = f_all.shape[1]"
   ]
  },
  {
   "cell_type": "markdown",
   "metadata": {
    "id": "Qhmbkvzx0JjT"
   },
   "source": [
    "QUESTION 21: How many pixels are there in the original images? How many features does the VGG network extract per image; i.e what is the dimension of each feature vector for an image sample?"
   ]
  },
  {
   "cell_type": "markdown",
   "metadata": {
    "id": "vuZoMv120N6N"
   },
   "source": [
    "1. There are 3670 images in the dataset. The original images have being composed to the size of 224x224x3=150,528 pixels.\n",
    "\n",
    "2. According to the output shape of the x, it could be seen that the features:\n",
    "*   Dimension: 512x7x7 features for the execution of 'features', and 'pooling'\n",
    "*   Dimension: 25,088 features for the execution of 'flatten'\n",
    "*   Dimension: 4,096 features for the 'fc'"
   ]
  },
  {
   "cell_type": "markdown",
   "metadata": {
    "id": "rbsm-0778ebK"
   },
   "source": [
    "QUESTION 22: Are the extracted features dense or sparse? (Compare with sparse TF-IDF features in text.)"
   ]
  },
  {
   "cell_type": "markdown",
   "metadata": {
    "id": "OFrRPQhj8gjz"
   },
   "source": [
    "The extracted features dense. In theory, the TF-IDF features are typically sparse. In this extracted features, the dimension are being reduced from 150,528(224x224x3) to 25,088(512x7x7), and finally to 4,096. The dimensionality reduction operations usually do not lead to sparse matrices; rather, they may decrease the sparsity of the original data. According to the output of the 'out' from the code, we can observe that almost no zero values are shown in the feature vectors."
   ]
  },
  {
   "cell_type": "code",
   "execution_count": 42,
   "metadata": {
    "colab": {
     "base_uri": "https://localhost:8080/",
     "height": 452
    },
    "id": "CEaIJIivHm7V",
    "outputId": "ccddd1ff-2a61-452c-b084-2fc30ff792a1"
   },
   "outputs": [
    {
     "data": {
      "image/png": "[encoded data removed]",
      "text/plain": [
       "<Figure size 640x480 with 1 Axes>"
      ]
     },
     "metadata": {},
     "output_type": "display_data"
    }
   ],
   "source": [
    "from sklearn.manifold import TSNE\n",
    "tsne = TSNE(n_components=2)\n",
    "transformed_data = tsne.fit_transform(f_all)\n",
    "plt.scatter(transformed_data[:, 0], transformed_data[:, 1], c=y_all, cmap='viridis')\n",
    "plt.title('t-SNE Visualization')\n",
    "plt.show()"
   ]
  },
  {
   "cell_type": "code",
   "execution_count": 45,
   "metadata": {
    "colab": {
     "base_uri": "https://localhost:8080/",
     "height": 452
    },
    "id": "ehvIPDEhkr1Y",
    "outputId": "f5c7b537-5b40-4e54-c38e-44841b522cf3"
   },
   "outputs": [
    {
     "data": {
      "image/png": "[encoded data removed]",
      "text/plain": [
       "<Figure size 640x480 with 1 Axes>"
      ]
     },
     "metadata": {},
     "output_type": "display_data"
    }
   ],
   "source": [
    "f_pca = PCA(n_components=2).fit_transform(f_all)\n",
    "plt.scatter(*f_pca.T, c=y_all)\n",
    "plt.title('PCA Visualization')\n",
    "plt.show()"
   ]
  },
  {
   "cell_type": "markdown",
   "metadata": {
    "id": "XpPARBF_sD5q"
   },
   "source": [
    "# Autoencoder"
   ]
  },
  {
   "cell_type": "code",
   "execution_count": 43,
   "metadata": {
    "id": "Kd-bryaBVBtP"
   },
   "outputs": [],
   "source": [
    "class Autoencoder(torch.nn.Module, TransformerMixin):\n",
    "    def __init__(self, n_components):\n",
    "        super().__init__()\n",
    "        self.n_components = n_components\n",
    "        self.n_features = None  # to be determined with data\n",
    "        self.encoder = None\n",
    "        self.decoder = None\n",
    "\n",
    "    def _create_encoder(self):\n",
    "        return nn.Sequential(\n",
    "            nn.Linear(4096, 1280),\n",
    "            nn.ReLU(True),\n",
    "            nn.Linear(1280, 640),\n",
    "            nn.ReLU(True), nn.Linear(640, 120), nn.ReLU(True), nn.Linear(120, self.n_components))\n",
    "\n",
    "    def _create_decoder(self):\n",
    "        return nn.Sequential(\n",
    "            nn.Linear(self.n_components, 120),\n",
    "            nn.ReLU(True),\n",
    "            nn.Linear(120, 640),\n",
    "            nn.ReLU(True),\n",
    "            nn.Linear(640, 1280),\n",
    "            nn.ReLU(True), nn.Linear(1280, 4096))\n",
    "\n",
    "    def forward(self, X):\n",
    "        encoded = self.encoder(X)\n",
    "        decoded = self.decoder(encoded)\n",
    "        return decoded\n",
    "\n",
    "    def fit(self, X):\n",
    "        X = torch.tensor(X, dtype=torch.float32, device='cuda')\n",
    "        self.n_features = X.shape[1]\n",
    "        self.encoder = self._create_encoder()\n",
    "        self.decoder = self._create_decoder()\n",
    "        self.cuda()\n",
    "        self.train()\n",
    "\n",
    "        criterion = nn.MSELoss()\n",
    "        optimizer = torch.optim.Adam(self.parameters(), lr=1e-3, weight_decay=1e-5)\n",
    "\n",
    "        dataset = TensorDataset(X)\n",
    "        dataloader = DataLoader(dataset, batch_size=128, shuffle=True)\n",
    "\n",
    "        for epoch in tqdm(range(100)):\n",
    "            for (X_,) in dataloader:\n",
    "                X_ = X_.cuda()\n",
    "                # ===================forward=====================\n",
    "                output = self(X_)\n",
    "                loss = criterion(output, X_)\n",
    "                # ===================backward====================\n",
    "                optimizer.zero_grad()\n",
    "                loss.backward()\n",
    "                optimizer.step()\n",
    "\n",
    "        return self\n",
    "\n",
    "    def transform(self, X):\n",
    "        X = torch.tensor(X, dtype=torch.float32, device='cuda')\n",
    "        self.eval()\n",
    "        with torch.no_grad():\n",
    "            return self.encoder(X).cpu().numpy()"
   ]
  },
  {
   "cell_type": "code",
   "execution_count": 47,
   "metadata": {
    "colab": {
     "base_uri": "https://localhost:8080/",
     "height": 470
    },
    "id": "M5JtTqDVsD5q",
    "outputId": "3590f1c4-b94d-4d28-da3f-5278d80585cf"
   },
   "outputs": [
    {
     "name": "stderr",
     "output_type": "stream",
     "text": [
      "100%|██████████| 100/100 [00:19<00:00,  5.08it/s]\n"
     ]
    },
    {
     "data": {
      "image/png": "[encoded data removed]",
      "text/plain": [
       "<Figure size 640x480 with 1 Axes>"
      ]
     },
     "metadata": {},
     "output_type": "display_data"
    }
   ],
   "source": [
    "X_em =Autoencoder(2).fit_transform(f_all)\n",
    "plt.scatter(*X_em.T, c=y_all)\n",
    "plt.title('Autoencoder Visualization')\n",
    "plt.show()"
   ]
  },
  {
   "cell_type": "markdown",
   "metadata": {
    "id": "ifVHKdXpIyMn"
   },
   "source": [
    "QUESTION 23: In order to inspect the high-dimensional features, t-SNE is a popular off-the-shelf choice for visualizing Vision features. Map the features you have extracted onto 2 dimensions with t-SNE. Then plot the mapped feature vectors along x and y axes. Color-code the data points with ground-truth labels. Describe your observation.\n",
    "\n",
    "While PCA is a powerful method for dimensionality reduction, it is limited to “linear” transformations. This might not be particularly good if a dataset is distributed non-linearly. An alternative approach is use of an “autoencoder” or UMAP. The helper has implemented an autoencoder which is ready to use."
   ]
  },
  {
   "cell_type": "markdown",
   "metadata": {
    "id": "TvINvwCNJUsF"
   },
   "source": [
    "T-SNE, PCA, and the Autoencoder have been used to reduce the dimensionality from 4096 dimensions to 2 dimensions. Notably, the t-SNE visualization reveals distinct clusters, effectively representing five clear groups. In contrast, the PCA visualization faces challenges in clearly distinguishing between these groups, highlighting the dataset's inherent nonlinearity. The Autoencoder also exhibits good separation of different groups in 2D visualization. However, an unexpected clustering phenomenon occurs where one cluster is encapsulated within another, indicating potential complexities in the underlying data structure.\n",
    "\n",
    "Evaluating the trade-offs between these methods is crucial. While t-SNE excels in capturing intricate cluster patterns, PCA struggles with the dataset's nonlinearity. The Autoencoder, though generally effective, needs careful examination and potential adjustments to address the observed encapsulation issue."
   ]
  },
  {
   "cell_type": "markdown",
   "metadata": {
    "id": "LSRkZ1ePU2tb"
   },
   "source": [
    "QUESTION 24: Report the best result (in terms of rand score) within the table below. For HDBSCAN, introduce a conservative parameter grid over min cluster size and min samples."
   ]
  },
  {
   "cell_type": "markdown",
   "metadata": {
    "id": "jiXkwHWGU_Ls"
   },
   "source": [
    "Dimensionality Reduction"
   ]
  },
  {
   "cell_type": "markdown",
   "metadata": {
    "id": "MPd1roXQVDjp"
   },
   "source": [
    "None"
   ]
  },
  {
   "cell_type": "code",
   "execution_count": 48,
   "metadata": {
    "id": "zufgL8nEVHXi"
   },
   "outputs": [],
   "source": [
    "np.savetxt('f_all.txt', f_all)\n",
    "np.savetxt('y_all.txt', y_all)"
   ]
  },
  {
   "cell_type": "markdown",
   "metadata": {
    "id": "54zicyGwVG-P"
   },
   "source": [
    "SVD with r=50"
   ]
  },
  {
   "cell_type": "code",
   "execution_count": 56,
   "metadata": {
    "id": "SMXjJAJ-Uy2Q"
   },
   "outputs": [],
   "source": [
    "svd_model = TruncatedSVD(n_components=50)\n",
    "svd_features = svd_model.fit_transform(f_all)\n",
    "np.savetxt('svd.txt', svd_features)"
   ]
  },
  {
   "cell_type": "markdown",
   "metadata": {
    "id": "97nWq5qkWPYr"
   },
   "source": [
    "UMAP with n_components=50"
   ]
  },
  {
   "cell_type": "code",
   "execution_count": 57,
   "metadata": {
    "id": "MgtVii9yWTk0"
   },
   "outputs": [],
   "source": [
    "umap_model = umap.UMAP(n_components=50)\n",
    "umap_features = umap_model.fit_transform(f_all)\n",
    "np.savetxt('umap.txt', umap_features)"
   ]
  },
  {
   "cell_type": "markdown",
   "metadata": {
    "id": "gseTndzGWxzQ"
   },
   "source": [
    "Autoencoder with num_features=50"
   ]
  },
  {
   "cell_type": "code",
   "execution_count": 58,
   "metadata": {
    "colab": {
     "base_uri": "https://localhost:8080/"
    },
    "id": "J2x0KDMWW036",
    "outputId": "b798e9c8-b7b2-4fe5-e450-e5d863d749f5"
   },
   "outputs": [
    {
     "name": "stderr",
     "output_type": "stream",
     "text": [
      "100%|██████████| 100/100 [00:20<00:00,  4.98it/s]\n"
     ]
    }
   ],
   "source": [
    "autoencoder_model = Autoencoder(50)\n",
    "autoencoder_features = autoencoder_model.fit_transform(f_all)\n",
    "np.savetxt('autoencoder.txt', autoencoder_features)"
   ]
  },
  {
   "cell_type": "markdown",
   "metadata": {
    "id": "H4gDHXFtXcHA"
   },
   "source": [
    "Clustering"
   ]
  },
  {
   "cell_type": "markdown",
   "metadata": {
    "id": "e5ISMk81Xdo-"
   },
   "source": [
    "K-Means with k=5"
   ]
  },
  {
   "cell_type": "code",
   "execution_count": 85,
   "metadata": {
    "colab": {
     "base_uri": "https://localhost:8080/"
    },
    "id": "YwPClLjpXtFx",
    "outputId": "dba89572-1d9c-4300-aa8f-1ec270c64195"
   },
   "outputs": [
    {
     "name": "stdout",
     "output_type": "stream",
     "text": [
      "kmeans_random_score_f_all:  0.7027979470087031\n",
      "kmeans_adjusted_random_score_f_all:  0.18919803381799868\n",
      "kmeans_random_score_svd:  0.7233211760957666\n",
      "kmeans_adjusted_random_score_svd:  0.23206036771001684\n",
      "kmeans_random_score_umap:  0.7979427013129371\n",
      "kmeans_adjusted_random_score_umap:  0.4009146219577455\n",
      "kmeans_random_score_encoder:  0.7139067063837751\n",
      "kmeans_adjusted_random_score_encoder:  0.19918270201408841\n"
     ]
    }
   ],
   "source": [
    "kmeans_model = KMeans(n_clusters=5, n_init='auto')\n",
    "\n",
    "# None\n",
    "y_pred_kmeans_f_all = kmeans_model.fit_predict(f_all)\n",
    "kmeans_random_score_f_all = rand_score(y_all,y_pred_kmeans_f_all)\n",
    "kmeans_adjusted_random_score_f_all = adjusted_rand_score(y_all,y_pred_kmeans_f_all)\n",
    "print(\"kmeans_random_score_f_all: \", kmeans_random_score_f_all)\n",
    "print(\"kmeans_adjusted_random_score_f_all: \", kmeans_adjusted_random_score_f_all)\n",
    "\n",
    "# SVD\n",
    "y_pred_kmeans_svd = kmeans_model.fit_predict(svd_features)\n",
    "kmeans_random_score_svd = rand_score(y_all,y_pred_kmeans_svd)\n",
    "kmeans_adjusted_random_score_svd = adjusted_rand_score(y_all,y_pred_kmeans_svd)\n",
    "print(\"kmeans_random_score_svd: \", kmeans_random_score_svd)\n",
    "print(\"kmeans_adjusted_random_score_svd: \", kmeans_adjusted_random_score_svd)\n",
    "\n",
    "# UMAP\n",
    "y_pred_kmeans_umap = kmeans_model.fit_predict(umap_features)\n",
    "kmeans_random_score_umap = rand_score(y_all,y_pred_kmeans_umap)\n",
    "kmeans_adjusted_random_score_umap = adjusted_rand_score(y_all,y_pred_kmeans_umap)\n",
    "print(\"kmeans_random_score_umap: \", kmeans_random_score_umap)\n",
    "print(\"kmeans_adjusted_random_score_umap: \", kmeans_adjusted_random_score_umap)\n",
    "\n",
    "# Autoencoder\n",
    "y_pred_kmeans_encoder = kmeans_model.fit_predict(autoencoder_features)\n",
    "kmeans_random_score_encoder = rand_score(y_all,y_pred_kmeans_encoder)\n",
    "kmeans_adjusted_random_score_encoder = adjusted_rand_score(y_all,y_pred_kmeans_encoder)\n",
    "print(\"kmeans_random_score_encoder: \", kmeans_random_score_encoder)\n",
    "print(\"kmeans_adjusted_random_score_encoder: \", kmeans_adjusted_random_score_encoder)"
   ]
  },
  {
   "cell_type": "markdown",
   "metadata": {
    "id": "xDMQz4A3Xf9z"
   },
   "source": [
    "Agglomerative Clustering with n_clusters=5"
   ]
  },
  {
   "cell_type": "code",
   "execution_count": 64,
   "metadata": {
    "colab": {
     "base_uri": "https://localhost:8080/"
    },
    "id": "V_jcrlvRZ83Z",
    "outputId": "f07a2d76-ca0d-4113-8818-83a72262e80f"
   },
   "outputs": [
    {
     "name": "stdout",
     "output_type": "stream",
     "text": [
      "agglomerative_clustering_random_score_f_all:  0.7104411881564593\n",
      "agglomerative_clustering_adjusted_random_score_f_all:  0.2184499487113686\n",
      "agglomerative_clustering_random_score_svd:  0.6703090849543603\n",
      "agglomerative_clustering_adjusted_random_score_svd:  0.1703520705453729\n",
      "agglomerative_clustering_random_score_UMAP:  0.7883424196987352\n",
      "agglomerative_clustering_adjusted_random_score_UMAP:  0.3903337302972467\n",
      "agglomerative_clustering_random_score_autoencoder:  0.7010264213830733\n",
      "agglomerative_clustering_adjusted_random_score_autoencoder:  0.19590699066987471\n"
     ]
    }
   ],
   "source": [
    "agglomerative_clustering_model = AgglomerativeClustering(n_clusters=5)\n",
    "\n",
    "# None\n",
    "y_pred_agglomerative_clustering_f_all = agglomerative_clustering_model.fit_predict(f_all)\n",
    "agglomerative_clustering_random_score_f_all = rand_score(y_all,y_pred_agglomerative_clustering_f_all)\n",
    "agglomerative_clustering_adjusted_random_score_f_all = adjusted_rand_score(y_all,y_pred_agglomerative_clustering_f_all)\n",
    "print(\"agglomerative_clustering_random_score_f_all: \", agglomerative_clustering_random_score_f_all)\n",
    "print(\"agglomerative_clustering_adjusted_random_score_f_all: \", agglomerative_clustering_adjusted_random_score_f_all)\n",
    "\n",
    "# SVD\n",
    "y_pred_agglomerative_clustering_svd = agglomerative_clustering_model.fit_predict(svd_features)\n",
    "agglomerative_clustering_random_score_svd = rand_score(y_all,y_pred_agglomerative_clustering_svd)\n",
    "agglomerative_clustering_adjusted_random_score_svd = adjusted_rand_score(y_all,y_pred_agglomerative_clustering_svd)\n",
    "print(\"agglomerative_clustering_random_score_svd: \", agglomerative_clustering_random_score_svd)\n",
    "print(\"agglomerative_clustering_adjusted_random_score_svd: \", agglomerative_clustering_adjusted_random_score_svd)\n",
    "\n",
    "# UMAP\n",
    "y_pred_agglomerative_clustering_umap = agglomerative_clustering_model.fit_predict(umap_features)\n",
    "agglomerative_clustering_random_score_UMAP = rand_score(y_all,y_pred_agglomerative_clustering_umap)\n",
    "agglomerative_clustering_adjusted_random_score_UMAP = adjusted_rand_score(y_all,y_pred_agglomerative_clustering_umap)\n",
    "print(\"agglomerative_clustering_random_score_UMAP: \", agglomerative_clustering_random_score_UMAP)\n",
    "print(\"agglomerative_clustering_adjusted_random_score_UMAP: \", agglomerative_clustering_adjusted_random_score_UMAP)\n",
    "\n",
    "# Autoencoder\n",
    "y_pred_agglomerative_clustering_encoder = agglomerative_clustering_model.fit_predict(autoencoder_features)\n",
    "agglomerative_clustering_random_score_autoencoder = rand_score(y_all,y_pred_agglomerative_clustering_encoder)\n",
    "agglomerative_clustering_adjusted_random_score_autoencoder = adjusted_rand_score(y_all,y_pred_agglomerative_clustering_encoder)\n",
    "print(\"agglomerative_clustering_random_score_autoencoder: \", agglomerative_clustering_random_score_autoencoder)\n",
    "print(\"agglomerative_clustering_adjusted_random_score_autoencoder: \", agglomerative_clustering_adjusted_random_score_autoencoder)"
   ]
  },
  {
   "cell_type": "markdown",
   "metadata": {
    "id": "HyG6erIYXjB_"
   },
   "source": [
    "HDBSCAN with grid over min_cluster_size & min_samples"
   ]
  },
  {
   "cell_type": "code",
   "execution_count": null,
   "metadata": {
    "id": "EH6EiBq5cHNS"
   },
   "outputs": [],
   "source": [
    "clusterer = hdbscan.HDBSCAN()\n",
    "\n",
    "param_grid = {'min_cluster_size': [2, 3, 5, 10],\n",
    "              'min_samples': [1,2,5]}\n",
    "\n",
    "score = make_scorer(rand_score)\n",
    "grid_search = GridSearchCV(clusterer, param_grid, cv=5, scoring=score)\n",
    "\n",
    "grid_search.fit(umap_features)"
   ]
  },
  {
   "cell_type": "code",
   "execution_count": 83,
   "metadata": {
    "colab": {
     "base_uri": "https://localhost:8080/"
    },
    "id": "gUG-uKaUg3M5",
    "outputId": "e79ba7d3-504e-478b-83a9-c2773b95a8e3"
   },
   "outputs": [
    {
     "data": {
      "text/plain": [
       "{'min_cluster_size': 5, 'min_samples': 1}"
      ]
     },
     "execution_count": 83,
     "metadata": {},
     "output_type": "execute_result"
    }
   ],
   "source": [
    "best_params"
   ]
  },
  {
   "cell_type": "code",
   "execution_count": 84,
   "metadata": {
    "colab": {
     "base_uri": "https://localhost:8080/"
    },
    "id": "YVXns4P8ez_5",
    "outputId": "e95b9986-8e22-4223-8a3f-395bf78fd858"
   },
   "outputs": [
    {
     "name": "stdout",
     "output_type": "stream",
     "text": [
      "agglomerative_clustering_random_score_f_all:  0.7104411881564593\n",
      "agglomerative_clustering_adjusted_random_score_f_all:  0.2184499487113686\n",
      "HDBSCAN_random_score_svd:  0.46091644925485864\n",
      "HDBSCAN_adjusted_random_score_svd:  0.020938165064498967\n",
      "HDBSCAN_random_score_UMAP:  0.7594478519861896\n",
      "HDBSCAN_adjusted_random_score_UMAP:  0.021157233418863282\n",
      "HDBSCAN_random_score_autoencoder:  0.2540727488501867\n",
      "HDBSCAN_adjusted_random_score_autoencoder:  0.0032721327280507166\n"
     ]
    }
   ],
   "source": [
    "HDBSCAN_model = hdbscan.HDBSCAN(min_cluster_size=5, min_samples=1)\n",
    "\n",
    "# None\n",
    "y_pred_HDBSCAN_f_all = HDBSCAN_model.fit_predict(f_all)\n",
    "HDBSCAN_random_score_f_all = rand_score(y_all,y_pred_HDBSCAN_f_all)\n",
    "HDBSCAN_adjusted_random_score_f_all = adjusted_rand_score(y_all,y_pred_HDBSCAN_f_all)\n",
    "print(\"agglomerative_clustering_random_score_f_all: \", agglomerative_clustering_random_score_f_all)\n",
    "print(\"agglomerative_clustering_adjusted_random_score_f_all: \", agglomerative_clustering_adjusted_random_score_f_all)\n",
    "\n",
    "# SVD\n",
    "y_pred_HDBSCAN_svd = HDBSCAN_model.fit_predict(svd_features)\n",
    "HDBSCAN_random_score_svd = rand_score(y_all,y_pred_HDBSCAN_svd)\n",
    "HDBSCAN_adjusted_random_score_svd = adjusted_rand_score(y_all,y_pred_HDBSCAN_svd)\n",
    "print(\"HDBSCAN_random_score_svd: \", HDBSCAN_random_score_svd)\n",
    "print(\"HDBSCAN_adjusted_random_score_svd: \", HDBSCAN_adjusted_random_score_svd)\n",
    "\n",
    "# UMAP\n",
    "y_pred_HDBSCAN_umap = HDBSCAN_model.fit_predict(umap_features)\n",
    "HDBSCAN_random_score_UMAP = rand_score(y_all,y_pred_HDBSCAN_umap)\n",
    "HDBSCAN_adjusted_random_score_UMAP = adjusted_rand_score(y_all,y_pred_HDBSCAN_umap)\n",
    "print(\"HDBSCAN_random_score_UMAP: \", HDBSCAN_random_score_UMAP)\n",
    "print(\"HDBSCAN_adjusted_random_score_UMAP: \", HDBSCAN_adjusted_random_score_UMAP)\n",
    "\n",
    "# Autoencoder\n",
    "y_pred_HDBSCAN_encoder = HDBSCAN_model.fit_predict(autoencoder_features)\n",
    "HDBSCAN_random_score_autoencoder = rand_score(y_all,y_pred_HDBSCAN_encoder)\n",
    "HDBSCAN_adjusted_random_score_autoencoder = adjusted_rand_score(y_all,y_pred_HDBSCAN_encoder)\n",
    "print(\"HDBSCAN_random_score_autoencoder: \", HDBSCAN_random_score_autoencoder)\n",
    "print(\"HDBSCAN_adjusted_random_score_autoencoder: \", HDBSCAN_adjusted_random_score_autoencoder)"
   ]
  },
  {
   "cell_type": "markdown",
   "metadata": {
    "id": "lIy8SgrzjpBd"
   },
   "source": [
    "Among the modules for different dimensionality reduction and different clustering. The best results in terms of rand score is: 0.7979427013129371 by UMAP of dimensionality reduction and K-Means of clustering."
   ]
  },
  {
   "cell_type": "markdown",
   "metadata": {
    "id": "u9oojHm_lKnu"
   },
   "source": [
    "Lastly, we can conduct an experiment to ensure that VGG features are rich enough in information about the data classes. In particular, we can train a fully-connected neural network classifier to predict the labels of data. For this task, you may use the MLP4 module provided in the helper code base."
   ]
  },
  {
   "cell_type": "markdown",
   "metadata": {
    "id": "LcmjYBHesD5p"
   },
   "source": [
    "# MLP Classifier"
   ]
  },
  {
   "cell_type": "code",
   "execution_count": 107,
   "metadata": {
    "id": "i3EPp5pysD5p"
   },
   "outputs": [],
   "source": [
    "class MLP(torch.nn.Module):\n",
    "    def __init__(self, num_features):\n",
    "        super().__init__()\n",
    "        self.model = nn.Sequential(\n",
    "            nn.Linear(num_features, 1280),\n",
    "            nn.ReLU(True),\n",
    "            nn.Linear(1280, 640),\n",
    "            nn.ReLU(True),\n",
    "            nn.Linear(640, 5),\n",
    "            nn.LogSoftmax(dim=1)\n",
    "        )\n",
    "        self.cuda()\n",
    "\n",
    "\n",
    "    def forward(self, X):\n",
    "        return self.model(X)\n",
    "\n",
    "    def train(self, X, y):\n",
    "        X = torch.tensor(X, dtype=torch.float32, device='cuda')\n",
    "        y = torch.tensor(y, dtype=torch.int64, device='cuda')\n",
    "\n",
    "        self.model.train()\n",
    "\n",
    "        criterion = nn.NLLLoss()\n",
    "        optimizer = torch.optim.Adam(self.parameters(), lr=1e-3, weight_decay=1e-5)\n",
    "\n",
    "        dataset = TensorDataset(X, y)\n",
    "        dataloader = DataLoader(dataset, batch_size=128, shuffle=True)\n",
    "\n",
    "        for epoch in tqdm(range(100)):\n",
    "            for (X_, y_) in dataloader:\n",
    "              # load data to GPU\n",
    "              X_ = X_.cuda()\n",
    "              y_ = y_.cuda()\n",
    "\n",
    "              # forward\n",
    "              output = self(X_)\n",
    "              loss = criterion(output, y_)\n",
    "\n",
    "              # backward\n",
    "              optimizer.zero_grad()\n",
    "              loss.backward()\n",
    "              optimizer.step()\n",
    "\n",
    "        return self\n",
    "\n",
    "    def eval(self, X_test, y_test):\n",
    "\n",
    "        #criterion = nn.NLLLoss()\n",
    "        X_test = torch.tensor(X_test, dtype=torch.float32, device='cuda')\n",
    "        y_test = torch.tensor(y_test, dtype=torch.int64, device='cuda')\n",
    "\n",
    "        with torch.no_grad():\n",
    "            output = self(X_test)\n",
    "            output = output.cpu().numpy()\n",
    "            output = np.argmax(output, axis = 1)\n",
    "            print(rand_score(output, y_test.cpu().numpy()))"
   ]
  },
  {
   "cell_type": "markdown",
   "metadata": {
    "id": "YMoJHPg4lWgZ"
   },
   "source": [
    "QUESTION 25: Report the test accuracy of the MLP classifier on the original VGG features. Report the same when using the reduced-dimension features (you have freedom in choosing the dimensionality reduction algorithm and its parameters). Does the performance of the model suffer with the reduced-dimension representations? Is it significant? Does the success in classification\n",
    "make sense in the context of the clustering results obtained for the same features in Question 24."
   ]
  },
  {
   "cell_type": "markdown",
   "metadata": {
    "id": "ER2p6UmgliLA"
   },
   "source": [
    "According to Question 24, the dimensionality reduction algorithm will be UMAP with n_components=50."
   ]
  },
  {
   "cell_type": "code",
   "execution_count": 116,
   "metadata": {
    "id": "KDDrgBGMrWQ6"
   },
   "outputs": [],
   "source": [
    "X_train_ori, X_test_ori, y_train_ori, y_test_ori = train_test_split(f_all, y_all, test_size=0.2, random_state=42)\n",
    "X_train_red_50, X_test_red_50, y_train_red_50, y_test_red_50 = train_test_split(umap_features, y_all, test_size=0.2, random_state=42)\n",
    "X_train_red_2, X_test_red_2, y_train_red_2, y_test_red_2 = train_test_split(transformed_data, y_all, test_size=0.2, random_state=42)"
   ]
  },
  {
   "cell_type": "code",
   "execution_count": 117,
   "metadata": {
    "colab": {
     "base_uri": "https://localhost:8080/"
    },
    "id": "FSiKHJxJrafn",
    "outputId": "ab542b48-412d-4ef1-8da3-5d8ec3303a13"
   },
   "outputs": [
    {
     "name": "stderr",
     "output_type": "stream",
     "text": [
      "100%|██████████| 100/100 [00:07<00:00, 12.95it/s]\n"
     ]
    },
    {
     "name": "stdout",
     "output_type": "stream",
     "text": [
      "0.9371921594284248\n"
     ]
    },
    {
     "name": "stderr",
     "output_type": "stream",
     "text": [
      "100%|██████████| 100/100 [00:07<00:00, 12.68it/s]\n"
     ]
    },
    {
     "name": "stdout",
     "output_type": "stream",
     "text": [
      "0.8841980439461583\n"
     ]
    },
    {
     "name": "stderr",
     "output_type": "stream",
     "text": [
      "100%|██████████| 100/100 [00:06<00:00, 15.30it/s]"
     ]
    },
    {
     "name": "stdout",
     "output_type": "stream",
     "text": [
      "0.8661467374940058\n"
     ]
    },
    {
     "name": "stderr",
     "output_type": "stream",
     "text": [
      "\n"
     ]
    }
   ],
   "source": [
    "MLP_model_original_feature = MLP(4096)\n",
    "MLP_model_original_feature.train(X_train_ori, y_train_ori)\n",
    "MLP_model_original_feature.eval(X_test_ori,y_test_ori)\n",
    "\n",
    "MLP_model_reduceddim_feature_50 = MLP(50)\n",
    "MLP_model_reduceddim_feature_50.train(X_train_red_50, y_train_red_50)\n",
    "MLP_model_reduceddim_feature_50.eval(X_test_red_50,y_test_red_50)\n",
    "\n",
    "MLP_model_reduceddim_feature_2 = MLP(2)\n",
    "MLP_model_reduceddim_feature_2.train(X_train_red_2, y_train_red_2)\n",
    "MLP_model_reduceddim_feature_2.eval(X_test_red_2,y_test_red_2)"
   ]
  },
  {
   "cell_type": "markdown",
   "metadata": {
    "id": "dyHoZm6gtupj"
   },
   "source": [
    "Certainly, the model's performance experiences a mild decline with the reduced-dimension representations, although it is not deemed significant. The success in classification is intuitive, given the supervised nature of the learning, whereas clustering relies on unsupervised methods. Notably, as the dimensionality reduces from the original 4096 to 50 and then to 2, the Rand accuracy decreases from 93.7% to 88.4% and finally to 86.6%. This reduction might be attributed to the loss of intricate features during the dimensionality reduction process."
   ]
  }
 ],
 "metadata": {
  "accelerator": "GPU",
  "colab": {
   "provenance": []
  },
  "kernelspec": {
   "display_name": "Python 3 (ipykernel)",
   "language": "python",
   "name": "python3"
  },
  "language_info": {
   "codemirror_mode": {
    "name": "ipython",
    "version": 3
   },
   "file_extension": ".py",
   "mimetype": "text/x-python",
   "name": "python",
   "nbconvert_exporter": "python",
   "pygments_lexer": "ipython3",
   "version": "3.11.5"
  }
 },
 "nbformat": 4,
 "nbformat_minor": 1
}
